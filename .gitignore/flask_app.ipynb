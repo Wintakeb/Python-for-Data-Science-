{
 "cells": [
  {
   "cell_type": "code",
   "execution_count": null,
   "metadata": {
    "collapsed": true
   },
   "outputs": [],
   "source": [
    "import pickle as pkl \n",
    "from flask import Flask, jsonify, request\n",
    "import sys\n",
    "import traceback\n",
    "from flask import Flask, jsonify, request\n",
    "\n",
    "__MODEL__ = \"model.pkl\"\n"
   ]
  },
  {
   "cell_type": "code",
   "execution_count": null,
   "metadata": {},
   "outputs": [
    {
     "name": "stderr",
     "output_type": "stream",
     "text": [
      " * Running on http://127.0.0.1:5000/ (Press CTRL+C to quit)\n",
      "127.0.0.1 - - [04/Apr/2018 17:03:09] \"POST /model_call HTTP/1.1\" 200 -\n",
      "127.0.0.1 - - [04/Apr/2018 17:03:15] \"POST /model_call HTTP/1.1\" 200 -\n"
     ]
    }
   ],
   "source": [
    "\n",
    "app = Flask(__name__)\n",
    "model = None\n",
    "def initialize_model():\n",
    "    '''\n",
    "    Loads the model from the pkl file\n",
    "    '''\n",
    "    global model\n",
    "    model = pkl.load(open(__MODEL__, 'rb'))\n",
    "\n",
    "\n",
    "@app.route(\"/model_call\", methods=['POST'])\n",
    "def model_evaluate():\n",
    "    '''\n",
    "    calls the model with new variables\n",
    "    '''\n",
    "    texture_mean = request.form['texture_mean']\n",
    "    area_mean = request.form['area_mean']\n",
    "    smoothness_mean = request.form['smoothness_mean']\n",
    "    compactness_mean = request.form['compactness_mean']\n",
    "    concavity_mean = request.form['concavity_mean']\n",
    "    symmetry_mean = request.form['symmetry_mean']\n",
    "    fractal_dimension_mean = request.form['fractal_dimension_mean']\n",
    "    \n",
    "    result  = model.predict([[texture_mean, area_mean, smoothness_mean, compactness_mean, \n",
    "                              concavity_mean, symmetry_mean, fractal_dimension_mean]])\n",
    " \n",
    "    ret_val = 'Malignent' if result[0] == 1 else 'Benign'\n",
    "    \n",
    "    return jsonify({'result': ret_val}), 200\n",
    "    \n",
    "\n",
    "\n",
    "if __name__ == \"__main__\":\n",
    "    initialize_model()\n",
    "    app.run()"
   ]
  },
  {
   "cell_type": "code",
   "execution_count": null,
   "metadata": {
    "collapsed": true
   },
   "outputs": [],
   "source": []
  },
  {
   "cell_type": "code",
   "execution_count": null,
   "metadata": {
    "collapsed": true
   },
   "outputs": [],
   "source": []
  }
 ],
 "metadata": {
  "kernelspec": {
   "display_name": "Python 2",
   "language": "python",
   "name": "python2"
  },
  "language_info": {
   "codemirror_mode": {
    "name": "ipython",
    "version": 2
   },
   "file_extension": ".py",
   "mimetype": "text/x-python",
   "name": "python",
   "nbconvert_exporter": "python",
   "pygments_lexer": "ipython2",
   "version": "2.7.13"
  }
 },
 "nbformat": 4,
 "nbformat_minor": 2
}

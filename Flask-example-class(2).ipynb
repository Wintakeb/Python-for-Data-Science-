{
 "cells": [
  {
   "cell_type": "code",
   "execution_count": 1,
   "metadata": {},
   "outputs": [],
   "source": [
    "import pickle as pkl\n",
    "from flask import Flask, jsonify, request\n",
    "__MODEL__='model.pkl'"
   ]
  },
  {
   "cell_type": "code",
   "execution_count": 4,
   "metadata": {},
   "outputs": [
    {
     "name": "stderr",
     "output_type": "stream",
     "text": [
      " * Running on http://127.0.0.1:5000/ (Press CTRL+C to quit)\n",
      "127.0.0.1 - - [04/Apr/2018 19:05:32] \"POST /model_call HTTP/1.1\" 200 -\n"
     ]
    },
    {
     "name": "stdout",
     "output_type": "stream",
     "text": [
      "Benign\n"
     ]
    },
    {
     "name": "stderr",
     "output_type": "stream",
     "text": [
      "127.0.0.1 - - [04/Apr/2018 19:11:50] \"POST /model_call HTTP/1.1\" 200 -\n"
     ]
    },
    {
     "name": "stdout",
     "output_type": "stream",
     "text": [
      "Benign\n"
     ]
    },
    {
     "name": "stderr",
     "output_type": "stream",
     "text": [
      "127.0.0.1 - - [04/Apr/2018 19:11:58] \"POST /model_call HTTP/1.1\" 200 -\n"
     ]
    },
    {
     "name": "stdout",
     "output_type": "stream",
     "text": [
      "Benign\n"
     ]
    },
    {
     "name": "stderr",
     "output_type": "stream",
     "text": [
      "127.0.0.1 - - [04/Apr/2018 19:12:04] \"POST /model_call HTTP/1.1\" 200 -\n"
     ]
    },
    {
     "name": "stdout",
     "output_type": "stream",
     "text": [
      "Malignet\n"
     ]
    }
   ],
   "source": [
    "app=Flask(__name__)\n",
    "def initialize_model():\n",
    "    #load the model from pkl file\n",
    "    global model\n",
    "    model=pkl.load(open(__MODEL__,'rb'))\n",
    "@app.route(\"/model_call\",methods=['POST'])\n",
    "def model_evaluate():\n",
    "    #calls the model with new arguments and return results as a json object/<json>\n",
    "    #arguments:\n",
    "    texture_mean=request.form['texture_mean']\n",
    "    area_mean=request.form['area_mean']\n",
    "    smoothness_mean=request.form['smoothness_mean']\n",
    "    compactness_mean=request.form['compactness_mean']\n",
    "    concavity_mean=request.form['concavity_mean']\n",
    "    symmetry_mean=request.form['symmetry_mean']\n",
    "    fractal_dimension_mean=request.form['fractal_dimension_mean']\n",
    "    \n",
    "    result= model.predict([[texture_mean,area_mean, smoothness_mean,compactness_mean, concavity_mean, symmetry_mean,fractal_dimension_mean]])\n",
    "    ret_value='Malignet'if result[0]==1 else 'Benign'\n",
    "    print(ret_value)\n",
    "    return jsonify({'results':ret_value}),200\n",
    "\n",
    "if __name__=='__main__':\n",
    "    initialize_model()\n",
    "    app.run()"
   ]
  },
  {
   "cell_type": "code",
   "execution_count": null,
   "metadata": {
    "collapsed": true
   },
   "outputs": [],
   "source": []
  },
  {
   "cell_type": "code",
   "execution_count": null,
   "metadata": {
    "collapsed": true
   },
   "outputs": [],
   "source": []
  },
  {
   "cell_type": "code",
   "execution_count": null,
   "metadata": {
    "collapsed": true
   },
   "outputs": [],
   "source": []
  },
  {
   "cell_type": "code",
   "execution_count": null,
   "metadata": {
    "collapsed": true
   },
   "outputs": [],
   "source": []
  },
  {
   "cell_type": "code",
   "execution_count": null,
   "metadata": {
    "collapsed": true
   },
   "outputs": [],
   "source": []
  }
 ],
 "metadata": {
  "kernelspec": {
   "display_name": "Python 3",
   "language": "python",
   "name": "python3"
  },
  "language_info": {
   "codemirror_mode": {
    "name": "ipython",
    "version": 3
   },
   "file_extension": ".py",
   "mimetype": "text/x-python",
   "name": "python",
   "nbconvert_exporter": "python",
   "pygments_lexer": "ipython3",
   "version": "3.6.3"
  }
 },
 "nbformat": 4,
 "nbformat_minor": 2
}
